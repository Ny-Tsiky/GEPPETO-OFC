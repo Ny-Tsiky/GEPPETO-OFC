{
  "nbformat": 4,
  "nbformat_minor": 0,
  "metadata": {
    "colab": {
      "provenance": []
    },
    "kernelspec": {
      "name": "python3",
      "display_name": "Python 3"
    },
    "language_info": {
      "name": "python"
    }
  },
  "cells": [
    {
      "cell_type": "code",
      "execution_count": null,
      "metadata": {
        "id": "WSKR1b1VIi9e"
      },
      "outputs": [],
      "source": [
        "#import libraries\n",
        "import math\n",
        "import pandas as pd\n",
        "import tensorflow as tf\n",
        "import matplotlib.pyplot as plt\n",
        "from tensorflow.keras import Model\n",
        "from tensorflow.keras import Sequential\n",
        "from sklearn.preprocessing import StandardScaler\n",
        "from tensorflow.keras.layers import Dense, Dropout\n",
        "from sklearn.model_selection import train_test_split\n",
        "from tensorflow.keras.losses import MeanSquaredLogarithmicError"
      ]
    },
    {
      "cell_type": "code",
      "source": [
        "#load data\n",
        "X_train = pd.read_csv('X_train.csv') # 1:2 des données\n",
        "X_test = pd.read_csv('X_test.csv') # 2:20 des données"
      ],
      "metadata": {
        "id": "2y1UNT8DJhJq"
      },
      "execution_count": null,
      "outputs": []
    },
    {
      "cell_type": "code",
      "source": [
        "# scale data from 0 to 1, if needed ?\n",
        "from sklearn.preprocessing import MinMaxScaler\n",
        "\n",
        "def scale_datasets(X_train, X_test):\n",
        "  standard_scaler = MinMaxScaler()\n",
        "  x_train_scaled = pd.DataFrame(\n",
        "      standard_scaler.fit_transform(X_train),\n",
        "      columns = X_train.columns\n",
        "  )\n",
        "  x_test_scaled = pd.DataFrame(\n",
        "      standard_scaler.fit_transform(X_test),\n",
        "      columns = X_test.columns\n",
        "  )\n",
        "  return x_train_scaled, x_test_scaled\n",
        "\n",
        "x_train_scaled, x_test_scaled = scale_datasets(X_train, X_test)"
      ],
      "metadata": {
        "id": "YmmTvZoRufXw"
      },
      "execution_count": null,
      "outputs": []
    },
    {
      "cell_type": "code",
      "source": [
        "# define the architecture of the autoencoder\n",
        "class AutoEncoders(Model):\n",
        "\n",
        "  def __init__(self, output_units):\n",
        "\n",
        "    super().__init__()\n",
        "    self.encoder = Sequential(\n",
        "        [\n",
        "          Dense(32, activation=\"relu\"),\n",
        "          #Dense(8, activation=\"relu\")\n",
        "        ]\n",
        "    )\n",
        "\n",
        "    self.decoder = Sequential(\n",
        "        [\n",
        "          #Dense(16, activation=\"relu\"),\n",
        "          Dense(output_units, activation=\"linear\")\n",
        "        ]\n",
        "    )\n",
        "\n",
        "  def call(self, inputs):\n",
        "\n",
        "    encoded = self.encoder(inputs)\n",
        "    decoded = self.decoder(encoded)\n",
        "    return decoded\n",
        "\n",
        "#auto_encoder = AutoEncoders(len(x_train_scaled.columns))\n",
        "auto_encoder = AutoEncoders(len(X_train.columns))\n",
        "\n",
        "auto_encoder.compile(\n",
        "    loss='mse',\n",
        "    metrics=['accuracy'],\n",
        "    optimizer='RMSprop'\n",
        ")\n",
        "\n",
        "history = auto_encoder.fit(\n",
        "    X_train,\n",
        "    X_train,\n",
        "    epochs=50,\n",
        "    batch_size=512,\n",
        "    validation_data=(X_test, X_test)\n",
        ")\n"
      ],
      "metadata": {
        "colab": {
          "base_uri": "https://localhost:8080/"
        },
        "outputId": "2774b921-dc93-4547-d0c2-64df6ecd3b5d",
        "id": "LD-lAubEo1G4"
      },
      "execution_count": null,
      "outputs": [
        {
          "output_type": "stream",
          "name": "stdout",
          "text": [
            "Epoch 1/50\n",
            "1013/1013 [==============================] - 4s 3ms/step - loss: 220.4594 - accuracy: 0.3965 - val_loss: 77.9608 - val_accuracy: 0.5001\n",
            "Epoch 2/50\n",
            "1013/1013 [==============================] - 3s 3ms/step - loss: 69.8265 - accuracy: 0.5563 - val_loss: 58.0203 - val_accuracy: 0.5779\n",
            "Epoch 3/50\n",
            "1013/1013 [==============================] - 3s 3ms/step - loss: 54.7317 - accuracy: 0.5955 - val_loss: 50.4922 - val_accuracy: 0.6179\n",
            "Epoch 4/50\n",
            "1013/1013 [==============================] - 3s 3ms/step - loss: 45.6730 - accuracy: 0.6211 - val_loss: 41.5324 - val_accuracy: 0.6440\n",
            "Epoch 5/50\n",
            "1013/1013 [==============================] - 3s 3ms/step - loss: 39.3700 - accuracy: 0.6418 - val_loss: 35.9588 - val_accuracy: 0.6498\n",
            "Epoch 6/50\n",
            "1013/1013 [==============================] - 3s 3ms/step - loss: 35.6628 - accuracy: 0.6555 - val_loss: 32.2820 - val_accuracy: 0.6678\n",
            "Epoch 7/50\n",
            "1013/1013 [==============================] - 3s 3ms/step - loss: 32.9887 - accuracy: 0.6688 - val_loss: 30.4710 - val_accuracy: 0.6765\n",
            "Epoch 8/50\n",
            "1013/1013 [==============================] - 3s 3ms/step - loss: 30.6550 - accuracy: 0.6802 - val_loss: 28.8941 - val_accuracy: 0.6913\n",
            "Epoch 9/50\n",
            "1013/1013 [==============================] - 3s 3ms/step - loss: 28.9824 - accuracy: 0.6858 - val_loss: 27.0764 - val_accuracy: 0.6978\n",
            "Epoch 10/50\n",
            "1013/1013 [==============================] - 3s 3ms/step - loss: 27.8014 - accuracy: 0.6897 - val_loss: 26.8400 - val_accuracy: 0.6752\n",
            "Epoch 11/50\n",
            "1013/1013 [==============================] - 3s 3ms/step - loss: 26.8378 - accuracy: 0.6938 - val_loss: 24.5132 - val_accuracy: 0.6917\n",
            "Epoch 12/50\n",
            "1013/1013 [==============================] - 3s 3ms/step - loss: 26.0320 - accuracy: 0.6962 - val_loss: 25.3735 - val_accuracy: 0.6883\n",
            "Epoch 13/50\n",
            "1013/1013 [==============================] - 3s 3ms/step - loss: 25.4223 - accuracy: 0.6974 - val_loss: 24.1848 - val_accuracy: 0.6889\n",
            "Epoch 14/50\n",
            "1013/1013 [==============================] - 3s 3ms/step - loss: 24.8844 - accuracy: 0.6992 - val_loss: 22.3615 - val_accuracy: 0.6999\n",
            "Epoch 15/50\n",
            "1013/1013 [==============================] - 3s 3ms/step - loss: 24.4206 - accuracy: 0.7001 - val_loss: 26.4967 - val_accuracy: 0.7012\n",
            "Epoch 16/50\n",
            "1013/1013 [==============================] - 3s 3ms/step - loss: 23.9963 - accuracy: 0.7015 - val_loss: 27.8254 - val_accuracy: 0.6937\n",
            "Epoch 17/50\n",
            "1013/1013 [==============================] - 3s 3ms/step - loss: 23.6480 - accuracy: 0.7023 - val_loss: 23.5551 - val_accuracy: 0.7062\n",
            "Epoch 18/50\n",
            "1013/1013 [==============================] - 3s 3ms/step - loss: 23.3123 - accuracy: 0.7037 - val_loss: 21.8815 - val_accuracy: 0.7072\n",
            "Epoch 19/50\n",
            "1013/1013 [==============================] - 3s 3ms/step - loss: 23.0214 - accuracy: 0.7037 - val_loss: 21.8568 - val_accuracy: 0.7098\n",
            "Epoch 20/50\n",
            "1013/1013 [==============================] - 3s 3ms/step - loss: 22.7110 - accuracy: 0.7052 - val_loss: 21.3952 - val_accuracy: 0.7048\n",
            "Epoch 21/50\n",
            "1013/1013 [==============================] - 3s 3ms/step - loss: 22.3810 - accuracy: 0.7050 - val_loss: 21.4238 - val_accuracy: 0.7120\n",
            "Epoch 22/50\n",
            "1013/1013 [==============================] - 3s 3ms/step - loss: 22.0162 - accuracy: 0.7058 - val_loss: 20.7175 - val_accuracy: 0.7100\n",
            "Epoch 23/50\n",
            "1013/1013 [==============================] - 3s 3ms/step - loss: 21.7765 - accuracy: 0.7075 - val_loss: 22.8359 - val_accuracy: 0.7082\n",
            "Epoch 24/50\n",
            "1013/1013 [==============================] - 3s 3ms/step - loss: 21.5552 - accuracy: 0.7082 - val_loss: 21.3306 - val_accuracy: 0.7026\n",
            "Epoch 25/50\n",
            "1013/1013 [==============================] - 3s 3ms/step - loss: 21.3781 - accuracy: 0.7099 - val_loss: 19.0213 - val_accuracy: 0.7147\n",
            "Epoch 26/50\n",
            "1013/1013 [==============================] - 3s 3ms/step - loss: 21.2043 - accuracy: 0.7101 - val_loss: 24.3264 - val_accuracy: 0.7083\n",
            "Epoch 27/50\n",
            "1013/1013 [==============================] - 3s 3ms/step - loss: 21.0733 - accuracy: 0.7112 - val_loss: 20.7814 - val_accuracy: 0.7115\n",
            "Epoch 28/50\n",
            "1013/1013 [==============================] - 3s 3ms/step - loss: 20.9564 - accuracy: 0.7120 - val_loss: 19.0279 - val_accuracy: 0.7093\n",
            "Epoch 29/50\n",
            "1013/1013 [==============================] - 3s 3ms/step - loss: 20.8157 - accuracy: 0.7123 - val_loss: 22.6775 - val_accuracy: 0.7045\n",
            "Epoch 30/50\n",
            "1013/1013 [==============================] - 3s 3ms/step - loss: 20.7223 - accuracy: 0.7125 - val_loss: 21.1772 - val_accuracy: 0.7102\n",
            "Epoch 31/50\n",
            "1013/1013 [==============================] - 3s 3ms/step - loss: 20.6004 - accuracy: 0.7123 - val_loss: 21.3452 - val_accuracy: 0.7026\n",
            "Epoch 32/50\n",
            "1013/1013 [==============================] - 3s 3ms/step - loss: 20.5151 - accuracy: 0.7126 - val_loss: 18.9123 - val_accuracy: 0.7108\n",
            "Epoch 33/50\n",
            "1013/1013 [==============================] - 3s 3ms/step - loss: 20.4135 - accuracy: 0.7123 - val_loss: 20.4207 - val_accuracy: 0.7042\n",
            "Epoch 34/50\n",
            "1013/1013 [==============================] - 3s 3ms/step - loss: 20.3418 - accuracy: 0.7130 - val_loss: 21.2285 - val_accuracy: 0.7024\n",
            "Epoch 35/50\n",
            "1013/1013 [==============================] - 3s 3ms/step - loss: 20.2580 - accuracy: 0.7125 - val_loss: 18.4707 - val_accuracy: 0.7138\n",
            "Epoch 36/50\n",
            "1013/1013 [==============================] - 3s 3ms/step - loss: 20.1750 - accuracy: 0.7130 - val_loss: 18.9122 - val_accuracy: 0.7115\n",
            "Epoch 37/50\n",
            "1013/1013 [==============================] - 3s 3ms/step - loss: 20.1209 - accuracy: 0.7133 - val_loss: 21.0761 - val_accuracy: 0.7013\n",
            "Epoch 38/50\n",
            "1013/1013 [==============================] - 3s 3ms/step - loss: 20.0410 - accuracy: 0.7132 - val_loss: 18.8233 - val_accuracy: 0.7163\n",
            "Epoch 39/50\n",
            "1013/1013 [==============================] - 3s 3ms/step - loss: 20.0031 - accuracy: 0.7133 - val_loss: 17.5287 - val_accuracy: 0.7134\n",
            "Epoch 40/50\n",
            "1013/1013 [==============================] - 3s 3ms/step - loss: 19.9451 - accuracy: 0.7129 - val_loss: 18.3526 - val_accuracy: 0.7112\n",
            "Epoch 41/50\n",
            "1013/1013 [==============================] - 3s 3ms/step - loss: 19.8932 - accuracy: 0.7127 - val_loss: 19.6898 - val_accuracy: 0.7128\n",
            "Epoch 42/50\n",
            "1013/1013 [==============================] - 3s 3ms/step - loss: 19.8496 - accuracy: 0.7130 - val_loss: 19.7106 - val_accuracy: 0.7089\n",
            "Epoch 43/50\n",
            "1013/1013 [==============================] - 3s 3ms/step - loss: 19.7900 - accuracy: 0.7129 - val_loss: 20.1533 - val_accuracy: 0.7000\n",
            "Epoch 44/50\n",
            "1013/1013 [==============================] - 3s 3ms/step - loss: 19.7641 - accuracy: 0.7134 - val_loss: 18.4863 - val_accuracy: 0.7109\n",
            "Epoch 45/50\n",
            "1013/1013 [==============================] - 3s 3ms/step - loss: 19.7329 - accuracy: 0.7131 - val_loss: 18.9230 - val_accuracy: 0.7133\n",
            "Epoch 46/50\n",
            "1013/1013 [==============================] - 3s 3ms/step - loss: 19.6855 - accuracy: 0.7127 - val_loss: 18.5158 - val_accuracy: 0.7145\n",
            "Epoch 47/50\n",
            "1013/1013 [==============================] - 3s 3ms/step - loss: 19.6428 - accuracy: 0.7134 - val_loss: 17.7763 - val_accuracy: 0.7156\n",
            "Epoch 48/50\n",
            "1013/1013 [==============================] - 3s 3ms/step - loss: 19.6238 - accuracy: 0.7132 - val_loss: 19.0271 - val_accuracy: 0.7072\n",
            "Epoch 49/50\n",
            "1013/1013 [==============================] - 3s 3ms/step - loss: 19.5869 - accuracy: 0.7136 - val_loss: 17.5210 - val_accuracy: 0.7137\n",
            "Epoch 50/50\n",
            "1013/1013 [==============================] - 3s 3ms/step - loss: 19.5526 - accuracy: 0.7134 - val_loss: 19.1903 - val_accuracy: 0.7073\n"
          ]
        }
      ]
    },
    {
      "cell_type": "code",
      "source": [
        "#extract feature\n",
        "encoder_layer = auto_encoder.get_layer(index = 0)\n",
        "reduced_df = pd.DataFrame(encoder_layer.predict(X_test))\n",
        "reduced_df = reduced_df.add_prefix('feature_')\n",
        "print(reduced_df)"
      ],
      "metadata": {
        "colab": {
          "base_uri": "https://localhost:8080/"
        },
        "id": "u3Qn9cGDPGgH",
        "outputId": "609b0f59-7602-442b-9cef-d70afd6d5677"
      },
      "execution_count": null,
      "outputs": [
        {
          "output_type": "stream",
          "name": "stdout",
          "text": [
            "        feature_0   feature_1   feature_2  ...   feature_5   feature_6   feature_7\n",
            "0       18.420616   20.310080   15.140778  ...   19.178764   18.020111   21.193008\n",
            "1      259.225342  290.061096  213.054901  ...  163.651489  378.340271  336.117096\n",
            "2      116.980476   97.669197   74.599457  ...   74.084984  149.449219  118.619019\n",
            "3       75.944374   44.236050   87.271065  ...  142.052032   56.559380   63.688583\n",
            "4       46.187267   66.390945   60.406269  ...   78.555626   22.158447   40.420479\n",
            "...           ...         ...         ...  ...         ...         ...         ...\n",
            "51832  217.555771  100.755608  114.944725  ...  176.478607  256.716309   86.531860\n",
            "51833   15.047296   17.363302   13.853910  ...   16.486494   16.268085   17.236008\n",
            "51834   64.885010   97.957291  170.524429  ...   85.171936   96.130394   72.743813\n",
            "51835  312.674438  246.804749  179.364349  ...  192.043671  261.237671   37.678726\n",
            "51836   95.370567   43.773186   43.364044  ...    0.074478   56.222557   90.043587\n",
            "\n",
            "[51837 rows x 8 columns]\n"
          ]
        }
      ]
    },
    {
      "cell_type": "code",
      "source": [
        "# compare prediction with \"unscaled\" data\n",
        "prediction = auto_encoder.predict(X_test)\n",
        "#unscaled_prediction = scaler.inverse_transform(predicted)\n"
      ],
      "metadata": {
        "id": "n49icewSdTX0"
      },
      "execution_count": null,
      "outputs": []
    },
    {
      "cell_type": "code",
      "source": [
        "print(X_test)"
      ],
      "metadata": {
        "colab": {
          "base_uri": "https://localhost:8080/"
        },
        "id": "1quJsdz9CVJR",
        "outputId": "1d3160ee-0354-4b6e-fc4b-5fedcefae436"
      },
      "execution_count": null,
      "outputs": [
        {
          "output_type": "stream",
          "name": "stdout",
          "text": [
            "          X_test1     X_test2    X_test3  ...   X_test30   X_test31   X_test32\n",
            "0        0.001761   -0.038315   0.011789  ...  -0.224295   1.154360  -0.189521\n",
            "1       47.202529   41.903501  47.961060  ... -75.340933 -66.051489 -85.199117\n",
            "2       16.693911   70.016043  54.060701  ...  22.622714 -21.576846   9.506413\n",
            "3      -58.185198   -5.725172  -8.050056  ...  42.040850  59.801898  54.122202\n",
            "4      -16.629991  -19.175536 -28.149810  ...  28.951062  30.653422  30.782605\n",
            "...           ...         ...        ...  ...        ...        ...        ...\n",
            "51832 -116.585356  -47.481059 -26.471016  ...  65.881693  42.689884  19.442396\n",
            "51833    0.013820    0.000319   0.000512  ...  -0.034785  -0.030549  -0.023891\n",
            "51834  -15.587764  -24.013349 -27.235436  ... -45.215068 -56.792460 -35.616830\n",
            "51835 -102.493991 -106.559744 -79.267736  ...  30.288592   8.463018 -29.560114\n",
            "51836   53.536334  -13.711067 -35.638529  ...  40.838795  47.611123  55.061035\n",
            "\n",
            "[51837 rows x 32 columns]\n"
          ]
        }
      ]
    },
    {
      "cell_type": "code",
      "source": [
        "print(prediction)"
      ],
      "metadata": {
        "colab": {
          "base_uri": "https://localhost:8080/"
        },
        "id": "xMt4NdesCZSe",
        "outputId": "c1a7d0f2-dabd-4f9b-e8e0-f7e0fab6c469"
      },
      "execution_count": null,
      "outputs": [
        {
          "output_type": "stream",
          "name": "stdout",
          "text": [
            "[[   0.13511193    1.3503166    -0.4194199  ...   -0.19856586\n",
            "     1.6071422     1.5609396 ]\n",
            " [  45.868927     34.23646      38.7791     ...  -62.64376\n",
            "   -57.17649     -56.651207  ]\n",
            " [  -7.2834024    46.970345     53.6045     ...    9.7109995\n",
            "     2.8721113     5.373861  ]\n",
            " ...\n",
            " [ -20.343256    -28.37295     -33.932278   ...  -56.99887\n",
            "   -47.202618    -34.71118   ]\n",
            " [-101.01578     -95.09919     -80.26385    ...   33.046032\n",
            "     4.302834     -7.1402597 ]\n",
            " [  44.794792    -43.818207    -50.05587    ...   27.312408\n",
            "    34.394936     34.340755  ]]\n"
          ]
        }
      ]
    },
    {
      "cell_type": "code",
      "source": [
        "from sklearn.metrics import mean_squared_error\n",
        "import numpy\n",
        "err = mean_squared_error(numpy.transpose(X_test),numpy.transpose(prediction), multioutput='raw_values')\n",
        "y = prediction\n",
        "plt.plot(y,'r+')\n",
        "print(mean_squared_error(prediction,X_test))"
      ],
      "metadata": {
        "colab": {
          "base_uri": "https://localhost:8080/",
          "height": 283
        },
        "id": "tmuQ3SYskiRT",
        "outputId": "ced2de6f-67f6-4455-f78c-c80564ef6e59"
      },
      "execution_count": null,
      "outputs": [
        {
          "output_type": "stream",
          "name": "stdout",
          "text": [
            "8.031808078663538\n"
          ]
        },
        {
          "output_type": "display_data",
          "data": {
            "image/png": "[encoded data removed]",
            "text/plain": [
              "<Figure size 432x288 with 1 Axes>"
            ]
          },
          "metadata": {
            "needs_background": "light"
          }
        }
      ]
    },
    {
      "cell_type": "code",
      "source": [
        "#print(prediction[1:2:5,1:31])\n",
        "plt.plot(X_test,'bo')"
      ],
      "metadata": {
        "colab": {
          "base_uri": "https://localhost:8080/",
          "height": 846
        },
        "id": "2ktwvgjGP_ro",
        "outputId": "d73b8eac-ba4a-49b6-8f74-34f5a316d29a"
      },
      "execution_count": null,
      "outputs": [
        {
          "output_type": "execute_result",
          "data": {
            "text/plain": [
              "[<matplotlib.lines.Line2D at 0x7fb886fd13d0>,\n",
              " <matplotlib.lines.Line2D at 0x7fb8870b93d0>,\n",
              " <matplotlib.lines.Line2D at 0x7fb886fd1790>,\n",
              " <matplotlib.lines.Line2D at 0x7fb886fd1950>,\n",
              " <matplotlib.lines.Line2D at 0x7fb886fd1b10>,\n",
              " <matplotlib.lines.Line2D at 0x7fb886fd1a90>,\n",
              " <matplotlib.lines.Line2D at 0x7fb886fd1ed0>,\n",
              " <matplotlib.lines.Line2D at 0x7fb886fd1e50>,\n",
              " <matplotlib.lines.Line2D at 0x7fb886f59290>,\n",
              " <matplotlib.lines.Line2D at 0x7fb886fd1cd0>,\n",
              " <matplotlib.lines.Line2D at 0x7fb886f595d0>,\n",
              " <matplotlib.lines.Line2D at 0x7fb886f59790>,\n",
              " <matplotlib.lines.Line2D at 0x7fb886f59950>,\n",
              " <matplotlib.lines.Line2D at 0x7fb886f59b10>,\n",
              " <matplotlib.lines.Line2D at 0x7fb886f59cd0>,\n",
              " <matplotlib.lines.Line2D at 0x7fb886f59e90>,\n",
              " <matplotlib.lines.Line2D at 0x7fb886f59e10>,\n",
              " <matplotlib.lines.Line2D at 0x7fb886f59fd0>,\n",
              " <matplotlib.lines.Line2D at 0x7fb886f5c410>,\n",
              " <matplotlib.lines.Line2D at 0x7fb886f5c5d0>,\n",
              " <matplotlib.lines.Line2D at 0x7fb886f5c790>,\n",
              " <matplotlib.lines.Line2D at 0x7fb886f5c950>,\n",
              " <matplotlib.lines.Line2D at 0x7fb886f5cb10>,\n",
              " <matplotlib.lines.Line2D at 0x7fb886f5ccd0>,\n",
              " <matplotlib.lines.Line2D at 0x7fb886f5ce90>,\n",
              " <matplotlib.lines.Line2D at 0x7fb886f5ce10>,\n",
              " <matplotlib.lines.Line2D at 0x7fb886f5cfd0>,\n",
              " <matplotlib.lines.Line2D at 0x7fb886f60410>,\n",
              " <matplotlib.lines.Line2D at 0x7fb886f605d0>,\n",
              " <matplotlib.lines.Line2D at 0x7fb886f60790>,\n",
              " <matplotlib.lines.Line2D at 0x7fb886f60950>,\n",
              " <matplotlib.lines.Line2D at 0x7fb886f60b10>]"
            ]
          },
          "metadata": {},
          "execution_count": 108
        },
        {
          "output_type": "display_data",
          "data": {
            "image/png": "[encoded data removed]",
            "text/plain": [
              "<Figure size 432x288 with 1 Axes>"
            ]
          },
          "metadata": {
            "needs_background": "light"
          }
        }
      ]
    }
  ]
}